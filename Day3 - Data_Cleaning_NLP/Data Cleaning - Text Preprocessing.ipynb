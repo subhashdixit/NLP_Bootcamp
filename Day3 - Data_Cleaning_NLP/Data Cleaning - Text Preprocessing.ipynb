{
 "cells": [
  {
   "cell_type": "markdown",
   "id": "e1c98ae8",
   "metadata": {},
   "source": [
    "# Text Preprocessing\n",
    "\n",
    "Supose we have textual data available, we need to apply many of pre-processing steps to the data to transform those words into numerical features that work with machine learning algorithms.\n",
    "\n",
    "The pre-processing steps for the problem depend mainly on the domain and the problem itself.We don't need to apply all the steps for every problem.\n",
    "\n",
    "Here, we're going to see text preprocessing in Python. We'll use NLTK(Natural language toolkit) library here."
   ]
  },
  {
   "cell_type": "code",
   "execution_count": 4,
   "id": "3099e180",
   "metadata": {},
   "outputs": [],
   "source": [
    "# import necessary libraries \n",
    "import nltk\n",
    "import string\n",
    "import re"
   ]
  },
  {
   "cell_type": "markdown",
   "id": "a4f4ae70",
   "metadata": {},
   "source": [
    "### Text lowercase\n",
    "\n",
    "We do lowercase the text to reduce the size of the vocabulary of our text data."
   ]
  },
  {
   "cell_type": "code",
   "execution_count": 5,
   "id": "f849b962",
   "metadata": {},
   "outputs": [
    {
     "data": {
      "text/plain": [
       "'data science is the study of data to extract meaningful insights for business!!'"
      ]
     },
     "execution_count": 5,
     "metadata": {},
     "output_type": "execute_result"
    }
   ],
   "source": [
    "def lowercase_text(text): \n",
    "    return text.lower() \n",
    "  \n",
    "input_str = \"Data science is the study of data to extract meaningful insights for business!!\"\n",
    "lowercase_text(input_str) "
   ]
  },
  {
   "cell_type": "markdown",
   "id": "02f7d28c",
   "metadata": {},
   "source": [
    "### Remove numbers\n",
    "\n",
    "We should either remove the numbers or convert those numbers into textual representations.\n",
    "We use regular expressions(re) to remove the numbers."
   ]
  },
  {
   "cell_type": "code",
   "execution_count": 6,
   "id": "073e302f",
   "metadata": {},
   "outputs": [
    {
     "data": {
      "text/plain": [
       "'You bought  apple from shop, and  Banana.'"
      ]
     },
     "execution_count": 6,
     "metadata": {},
     "output_type": "execute_result"
    }
   ],
   "source": [
    "# For Removing numbers \n",
    "def remove_num(text): \n",
    "    result = re.sub(r'\\d+', '', text) \n",
    "    return result \n",
    "  \n",
    "input_s = \"You bought 6 apple from shop, and 8 Banana.\"\n",
    "remove_num(input_s) "
   ]
  },
  {
   "cell_type": "markdown",
   "id": "3475daff",
   "metadata": {},
   "source": [
    "As we mentioned above,you can also convert the numbers into words. This could be done by using the inflect library."
   ]
  },
  {
   "cell_type": "code",
   "execution_count": 7,
   "id": "8a65e224",
   "metadata": {},
   "outputs": [
    {
     "data": {
      "text/plain": [
       "'You bought six apple from shop, and eight Banana.'"
      ]
     },
     "execution_count": 7,
     "metadata": {},
     "output_type": "execute_result"
    }
   ],
   "source": [
    "# import the library \n",
    "import inflect \n",
    "q = inflect.engine() \n",
    "  \n",
    "# convert number into text \n",
    "def convert_num(text): \n",
    "    # split strings into list of texts \n",
    "    temp_string = text.split() \n",
    "    # initialise empty list \n",
    "    new_str = [] \n",
    "  \n",
    "    for word in temp_string: \n",
    "        # if text is a digit, convert the digit \n",
    "        # to numbers and append into the new_str list \n",
    "        if word.isdigit(): \n",
    "            temp = q.number_to_words(word) \n",
    "            new_str.append(temp) \n",
    "  \n",
    "        # append the texts as it is \n",
    "        else: \n",
    "            new_str.append(word) \n",
    "  \n",
    "    # join the texts of new_str to form a string \n",
    "    temp_str = ' '.join(new_str) \n",
    "    return temp_str \n",
    "  \n",
    "input_str = 'You bought 6 apple from shop, and 8 Banana.'\n",
    "convert_num(input_str)"
   ]
  },
  {
   "cell_type": "markdown",
   "id": "66d22f58",
   "metadata": {},
   "source": [
    "### Remove Punctuation\n",
    "\n",
    "We remove punctuations because of that we don't have different form of the same word. If we don't remove punctuations, then been, been, and been! will be treated separately."
   ]
  },
  {
   "cell_type": "code",
   "execution_count": 8,
   "id": "21dc402f",
   "metadata": {},
   "outputs": [
    {
     "data": {
      "text/plain": [
       "'Is data science a good career Data science is a fantastic career with a tonne of potential for future growth'"
      ]
     },
     "execution_count": 8,
     "metadata": {},
     "output_type": "execute_result"
    }
   ],
   "source": [
    "# let's remove punctuation \n",
    "def rem_punct(text):\n",
    "    translator = str.maketrans('', '', string.punctuation) \n",
    "    return text.translate(translator) \n",
    "  \n",
    "input_str = \"Is data science a good career?? Data science is a fantastic career with a tonne of potential for future growth!!!\"\n",
    "rem_punct(input_str) "
   ]
  },
  {
   "cell_type": "markdown",
   "id": "0280ebee",
   "metadata": {},
   "source": [
    "### Remove  stopwords:\n",
    "\n",
    "Stopwords are words that do not contribute to the meaning of the sentence. Hence, they can be safely removed without causing any change in the meaning of a sentence. The NLTK(Natural Language Toolkit) library has the set of stopwords and we can use these to remove stopwords from our text and return a list of word tokens."
   ]
  },
  {
   "cell_type": "code",
   "execution_count": 9,
   "id": "bffef9a7",
   "metadata": {},
   "outputs": [
    {
     "name": "stderr",
     "output_type": "stream",
     "text": [
      "[nltk_data] Downloading package stopwords to\n",
      "[nltk_data]     C:\\Users\\subhash\\AppData\\Roaming\\nltk_data...\n",
      "[nltk_data]   Package stopwords is already up-to-date!\n",
      "[nltk_data] Downloading package punkt to\n",
      "[nltk_data]     C:\\Users\\subhash\\AppData\\Roaming\\nltk_data...\n",
      "[nltk_data]   Package punkt is already up-to-date!\n"
     ]
    },
    {
     "data": {
      "text/plain": [
       "['Data', 'new', 'oil', '.', 'A.I', 'last', 'invention']"
      ]
     },
     "execution_count": 9,
     "metadata": {},
     "output_type": "execute_result"
    }
   ],
   "source": [
    "# importing nltk library\n",
    "from nltk.corpus import stopwords \n",
    "from nltk.tokenize import word_tokenize \n",
    "\n",
    "nltk.download('stopwords')\n",
    "nltk.download('punkt')\n",
    "  \n",
    "# remove stopwords function \n",
    "def rem_stopwords(text): \n",
    "    stop_words = set(stopwords.words(\"english\")) \n",
    "    word_tokens = word_tokenize(text) \n",
    "    filtered_text = [word for word in word_tokens if word not in stop_words] \n",
    "    return filtered_text \n",
    "  \n",
    "ex_text = \"Data is the new oil. A.I is the last invention\"\n",
    "rem_stopwords(ex_text)"
   ]
  },
  {
   "cell_type": "markdown",
   "id": "1f42bb63",
   "metadata": {},
   "source": [
    "# RegEx"
   ]
  },
  {
   "cell_type": "markdown",
   "id": "a5efffe8",
   "metadata": {},
   "source": [
    "A Regular Expression (RegEx) is a sequence of characters that defines a search pattern. \n",
    "\n",
    "- For example: ^a...s$\n",
    "\n",
    "The above code defines a RegEx pattern. The pattern is: any five letter string starting with [a] and ending with [s].\n",
    "\n"
   ]
  },
  {
   "cell_type": "code",
   "execution_count": 12,
   "id": "fae2f754",
   "metadata": {},
   "outputs": [
    {
     "name": "stdout",
     "output_type": "stream",
     "text": [
      "Search successful.\n"
     ]
    }
   ],
   "source": [
    "import re\n",
    "\n",
    "pattern = '^a...s$'\n",
    "\n",
    "test_string = 'abyss'\n",
    "\n",
    "test_string2 = 'abyssb'\n",
    "result = re.match(pattern, test_string)\n",
    "\n",
    "#result = re.match(pattern, test_string)\n",
    "\n",
    "if result:\n",
    "  print(\"Search successful.\")\n",
    "else:\n",
    "  print(\"Search unsuccessful.\")\t\n"
   ]
  },
  {
   "cell_type": "markdown",
   "id": "6a69567b",
   "metadata": {},
   "source": [
    "## What is RegEx and why is it important?\n",
    "\n",
    "A Regex or we called it as regular expression, it is a type of object will help you out to extract information from any string data by searching through text and find it out what you need.Whether it's punctuation, numbers, letters, or even white spaces, RegEx will allow you to check and match any of the character combination in strings.\n",
    "\n",
    "For example, suppose you need to match the format of a email addresses or security numbers. You can utilize RegEx to check the pattern inside the text strings and use it to replace another substring.\n",
    "\n",
    "For instance, a RegEx could tell the program to search for the specific text from the string and then to print out the output accordingly. Expressions can include Text matching, Repetition of words,Branching,pattern-composition."
   ]
  },
  {
   "cell_type": "markdown",
   "id": "031ba7da",
   "metadata": {},
   "source": [
    "\n",
    "### RegEx Syntax\n",
    "\n",
    "    import re\n",
    "\n",
    "- *re* library in Python is used for string searching and manipulation.\n",
    "- We also used it frequently for web scraping.\n",
    "\n",
    "#### Example for w+ and ^ Expression\n",
    "\n",
    "- *^:* Here in this expression matches the start of a string.\n",
    "- *w+:* This expression matches for the alphanumeric characters from inside the string.\n",
    "\n",
    "Here, we will give one example of how you can use \"w+\" and \"^\" expressions in code. re.findall will cover in next parts,so just focus on the \"w+\" and \"^\" expression.\n",
    "\n",
    "Let's have an example \"SuccessBatch13, Data Science Bootcamp Batch\", if we execute the code we will get \"SuccessBatch13\" as a result."
   ]
  },
  {
   "cell_type": "code",
   "execution_count": 13,
   "id": "40b9fe5c",
   "metadata": {},
   "outputs": [
    {
     "name": "stdout",
     "output_type": "stream",
     "text": [
      "['SuccessBatch13']\n"
     ]
    }
   ],
   "source": [
    "import re\n",
    "sent = \"SuccessBatch13, Data Science Bootcamp Batch\"\n",
    "r2 = re.findall(r\"^\\w+\",sent)\n",
    "print(r2)"
   ]
  },
  {
   "cell_type": "markdown",
   "id": "2520cae2",
   "metadata": {},
   "source": [
    "*Note:* If we remove '+' sign from \\w, the output will change and it'll give only first character of the first letter, i.e [S]"
   ]
  },
  {
   "cell_type": "code",
   "execution_count": 14,
   "id": "bc9fd7c7",
   "metadata": {},
   "outputs": [
    {
     "name": "stdout",
     "output_type": "stream",
     "text": [
      "['S']\n"
     ]
    }
   ],
   "source": [
    "import re\n",
    "sent = \"SuccessBatch13, Data Science Bootcamp Batch\"\n",
    "r2 = re.findall(r\"^\\w\",sent)\n",
    "print(r2)"
   ]
  },
  {
   "cell_type": "markdown",
   "id": "2fd278e6",
   "metadata": {},
   "source": [
    "####  Example of \\s expression in re.split function\n",
    "\n",
    "- \"s:\" This expression we use for creating a space in the string.\n",
    "\n",
    "To understand better this expression we will use the split function in a simple example. In this example, we have to split each words using the \"re.split\" function and at the same time we have used \\s that allows to parse each word in the string seperately."
   ]
  },
  {
   "cell_type": "code",
   "execution_count": 15,
   "id": "772a09e1",
   "metadata": {},
   "outputs": [
    {
     "name": "stdout",
     "output_type": "stream",
     "text": [
      "['We', 'splited', 'this', 'sentence']\n"
     ]
    }
   ],
   "source": [
    "import re\n",
    "\n",
    "print((re.split(r'\\s','We splited this sentence')))"
   ]
  },
  {
   "cell_type": "markdown",
   "id": "4a7faa2b",
   "metadata": {},
   "source": [
    "As we can see above we got the output ['We', 'splited', 'this', 'sentence'] but what if we remove ' \\ ' from '\\s', it will give result like remove 's' from the entire sentences. Let's see in below example."
   ]
  },
  {
   "cell_type": "code",
   "execution_count": 16,
   "id": "0344db9b",
   "metadata": {},
   "outputs": [
    {
     "name": "stdout",
     "output_type": "stream",
     "text": [
      "['We ', 'plited thi', ' ', 'entence']\n"
     ]
    }
   ],
   "source": [
    "import re\n",
    "\n",
    "print((re.split(r's','We splited this sentence')))"
   ]
  },
  {
   "cell_type": "markdown",
   "id": "8ad4bf86",
   "metadata": {},
   "source": [
    "Similarly, there are series of regular expression in Python that you can use in various ways like  \\d,\\D,$,\\.,\\b, etc.\n",
    "\n",
    "- \\d - Matches any decimal digit. Equivalent to [0-9]\n",
    "- \\D - Matches any non-decimal digit. Equivalent to [^0-9]\n",
    "- \\b - Matches if the specified characters are at the beginning or end of a word."
   ]
  },
  {
   "cell_type": "markdown",
   "id": "4b42051e",
   "metadata": {},
   "source": [
    "## Use RegEx methods\n",
    "\n",
    "The \"re\" packages provide several methods to actually perform queries on an input string. We will see different methods which are\n",
    "\n",
    "    re.match()\n",
    "    re.search()\n",
    "    re.findall()\n",
    "    \n",
    "**Note:** Based on the RegEx, Python offers two different primitive operations. This match method checks for the match only at the begining of the string while search checks for a match anywhere in the string."
   ]
  },
  {
   "cell_type": "markdown",
   "id": "922f3c9f",
   "metadata": {},
   "source": [
    "### Finding Pattern in the text(re.search())\n",
    "\n",
    "A RegEx is commonly used to search for a pattern in the text. This method takes a RegEx pattern and a string and searches that pattern with the string.\n",
    "\n",
    "For using re.search() function, you need to import re first. The search() function takes the \"pattern\" and \"text\" to scan from our given string and returns the match object when the pattern found or else not match."
   ]
  },
  {
   "cell_type": "code",
   "execution_count": 17,
   "id": "23fee7b3",
   "metadata": {},
   "outputs": [
    {
     "name": "stdout",
     "output_type": "stream",
     "text": [
      "pattern found inside the string\n"
     ]
    }
   ],
   "source": [
    "\n",
    "import re\n",
    "\n",
    "string = \"Python is fun\"\n",
    "\n",
    "# check if 'Python' is at the beginning\n",
    "match = re.search('\\APython', string)\n",
    "\n",
    "# \\A - Matches if the specified characters are at the start of a string.\n",
    "\n",
    "if match:\n",
    "  print(\"pattern found inside the string\")\n",
    "else:\n",
    "  print(\"pattern not found\") "
   ]
  },
  {
   "cell_type": "code",
   "execution_count": 18,
   "id": "3f464ff9",
   "metadata": {},
   "outputs": [
    {
     "name": "stdout",
     "output_type": "stream",
     "text": [
      "pattern found inside the string\n"
     ]
    }
   ],
   "source": [
    "\n",
    "import re\n",
    "\n",
    "string = \"I live Python programming language\"\n",
    "\n",
    "# check if 'Python' is at the beginning\n",
    "match = re.search('Python', string)\n",
    "\n",
    "# \\A - Matches if the specified characters are at the start of a string.\n",
    "\n",
    "if match:\n",
    "  print(\"pattern found inside the string\")\n",
    "else:\n",
    "  print(\"pattern not found\") "
   ]
  },
  {
   "cell_type": "code",
   "execution_count": 19,
   "id": "acaf1e5b",
   "metadata": {},
   "outputs": [
    {
     "name": "stdout",
     "output_type": "stream",
     "text": [
      "You're looking for 'playing' in 'Sanju is playing outside.' Found match!\n",
      "You're looking for 'Success Analytics' in 'Sanju is playing outside.' no match found!\n"
     ]
    }
   ],
   "source": [
    "import re\n",
    "\n",
    "pattern = [\"playing\", \"Success Analytics\"]\n",
    "text = \"Sanju is playing outside.\"\n",
    "\n",
    "for p in pattern:\n",
    "    print(\"You're looking for '%s' in '%s'\" %(p, text), end = ' ')\n",
    "    \n",
    "    if re.search(p, text):\n",
    "        print('Found match!')\n",
    "        \n",
    "    else:\n",
    "        print(\"no match found!\")"
   ]
  },
  {
   "cell_type": "markdown",
   "id": "6713ffb7",
   "metadata": {},
   "source": [
    "## Using re.findall() for text\n",
    "\n",
    "We use re.findall() module is when you wnat to iterate over the lines of the file, it'll do like list all the matches in one go. Here in a example, we would like to fetch email address from the list and we want to fetch all emails from the list, we use re.findall() method."
   ]
  },
  {
   "cell_type": "code",
   "execution_count": 20,
   "id": "5c94be07",
   "metadata": {},
   "outputs": [
    {
     "name": "stdout",
     "output_type": "stream",
     "text": [
      "['12', '89', '34']\n"
     ]
    }
   ],
   "source": [
    "\n",
    "# Program to extract numbers from a string\n",
    "\n",
    "import re\n",
    "\n",
    "string = 'hello 12 hi 89. Howdy 34'\n",
    "pattern = '\\d+'\n",
    "# \\d - Matches any decimal digit. Equivalent to [0-9]\n",
    "\n",
    "result = re.findall(pattern, string) \n",
    "print(result)\n",
    "\n",
    "# Output: ['12', '89', '34']"
   ]
  },
  {
   "cell_type": "markdown",
   "id": "eeaf95eb",
   "metadata": {},
   "source": [
    "**Note**: If the pattern is not found, re.findall() returns an empty list."
   ]
  },
  {
   "cell_type": "code",
   "execution_count": 21,
   "id": "dd79f8ac",
   "metadata": {},
   "outputs": [
    {
     "name": "stdout",
     "output_type": "stream",
     "text": [
      "shivan@analytics.in\n",
      "bhaskar@analytics.in\n",
      "ratan@analytics.in\n"
     ]
    }
   ],
   "source": [
    "import re\n",
    "\n",
    "data = \"shivan@analytics.in, bhaskar@analytics.in, ratan@analytics.in, hiteshanalytics.in\"\n",
    "\n",
    "# [\\w\\.-]+@[\\w\\.-]+ regular expression is commonly used to match email addresses. L\n",
    "emails = re.findall(r'[\\w\\.-]+@[\\w\\.-]+', data)\n",
    "\n",
    "for e in emails:\n",
    "    print(e)"
   ]
  },
  {
   "cell_type": "markdown",
   "id": "960a6c75",
   "metadata": {},
   "source": [
    "**Explanation**\n",
    "\n",
    "1. [\\w\\.-]+: This part of the regular expression matches the username part of an email address. Here's what each component does:\n",
    "\n",
    "    [\\w\\.-]: This character class [] matches any single character that is either a word character (letter, digit, or underscore), a dot . or a hyphen -.\n",
    "\n",
    "    +: The + quantifier means that the previous character class (or group) should appear one or more times. So, [\\w\\.-]+ matches one or more word characters, dots, or hyphens in the username.\n",
    "    \n",
    "2. @: This character matches the literal \"@\" symbol, which separates the username from the domain in an email address.\n",
    "\n",
    "\n",
    "3. [\\w\\.-]+: This part of the regular expression matches the domain part of an email address. It's similar to the first part:\n",
    "\n",
    "    [\\w\\.-]: Again, this character class matches word characters, dots, or hyphens.\n",
    "    \n",
    "    +: Like before, + indicates that the previous character class (or group) should appear one or more times."
   ]
  },
  {
   "cell_type": "markdown",
   "id": "52a5780c",
   "metadata": {},
   "source": [
    "\n",
    "### Using re.match()\n",
    "\n",
    "The match function is used to match the RegEx pattern to string with optional flag. Here, in this \"w+\" and \"\\W\" will match the words starting from \"i\" and thereafter ,anything which is not started with \"i\" is not identified. For checking match for each element in the list or string, we run the for loop."
   ]
  },
  {
   "cell_type": "code",
   "execution_count": 22,
   "id": "885f3427",
   "metadata": {},
   "outputs": [
    {
     "name": "stdout",
     "output_type": "stream",
     "text": [
      "('icecream', 'images')\n"
     ]
    }
   ],
   "source": [
    "import re\n",
    "\n",
    "lists = ['icecream images', 'i immitated', 'inner peace', 'I have an iPhone and an iPad.']\n",
    "\n",
    "for i in lists:\n",
    "    q = re.match(\"(i\\w+)\\W(i\\w+)\", i)\n",
    "    \n",
    "    if q:\n",
    "        print((q.groups()))"
   ]
  },
  {
   "cell_type": "markdown",
   "id": "47457b1b",
   "metadata": {},
   "source": [
    "**Explanation**\n",
    "\n",
    "- (i\\w+): This part of the expression matches a sequence of characters that starts with the letter \"i\" followed by one or more word characters (letters, digits, or underscores). The parentheses capture this sequence as a group.\n",
    "\n",
    "\n",
    "- \\W: This part of the expression matches a non-word character, such as whitespace or punctuation.\n",
    "\n",
    "\n",
    "- (i\\w+): This part is similar to the first part and captures another sequence of characters that starts with \"i\" and is followed by one or more word characters."
   ]
  },
  {
   "cell_type": "code",
   "execution_count": 23,
   "id": "0f06f838",
   "metadata": {},
   "outputs": [
    {
     "name": "stdout",
     "output_type": "stream",
     "text": [
      "No matches found.\n",
      "No matches found.\n",
      "Match 1: idea\n",
      "Match 2: is\n",
      "No matches found.\n",
      "No matches found.\n",
      "Match 1: Internet\n",
      "Match 2: is\n"
     ]
    }
   ],
   "source": [
    "import re\n",
    "\n",
    "# Sample text\n",
    "text1 = \"I enjoy ice cream.\"\n",
    "text2 = \"In the evening, I like to watch movies.\"\n",
    "text3 = \"The idea is interesting.\"\n",
    "text4 = \"I have an iPhone and an iPad.\"\n",
    "text5 = \"Igloos are cool.\"\n",
    "text6 = \"The Internet is a vast network.\"\n",
    "\n",
    "# Regular expression pattern\n",
    "pattern = r'(i\\w+)\\W(i\\w+)'\n",
    "\n",
    "# Function to find and print matches\n",
    "def find_matches(text):\n",
    "    matches = re.findall(pattern, text, re.IGNORECASE)  # Case-insensitive search\n",
    "    if matches:\n",
    "        for match in matches:\n",
    "            print(f\"Match 1: {match[0]}\")\n",
    "            print(f\"Match 2: {match[1]}\")\n",
    "    else:\n",
    "        print(\"No matches found.\")\n",
    "\n",
    "# Apply the regular expression to the sample texts\n",
    "find_matches(text1)\n",
    "find_matches(text2)\n",
    "find_matches(text3)\n",
    "find_matches(text4)\n",
    "find_matches(text5)\n",
    "find_matches(text6)"
   ]
  },
  {
   "cell_type": "markdown",
   "id": "cae83a8f",
   "metadata": {},
   "source": [
    "# Happy Learning!"
   ]
  }
 ],
 "metadata": {
  "kernelspec": {
   "display_name": "Python 3",
   "language": "python",
   "name": "python3"
  },
  "language_info": {
   "codemirror_mode": {
    "name": "ipython",
    "version": 3
   },
   "file_extension": ".py",
   "mimetype": "text/x-python",
   "name": "python",
   "nbconvert_exporter": "python",
   "pygments_lexer": "ipython3",
   "version": "3.9.18"
  }
 },
 "nbformat": 4,
 "nbformat_minor": 5
}
