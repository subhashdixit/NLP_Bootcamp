{
 "cells": [
  {
   "cell_type": "code",
   "execution_count": null,
   "metadata": {
    "id": "LA_IJlkl6rIR"
   },
   "outputs": [],
   "source": [
    "import keras\n",
    "from keras.datasets import mnist\n",
    "from keras.models import Sequential\n",
    "from keras.layers import Dense, Dropout, Flatten\n",
    "from keras.layers import Conv2D, MaxPooling2D\n",
    "from keras import backend as K\n"
   ]
  },
  {
   "cell_type": "code",
   "execution_count": null,
   "metadata": {
    "colab": {
     "base_uri": "https://localhost:8080/"
    },
    "id": "Pr2cbG5H6t1n",
    "outputId": "984dd269-5582-49c9-d8b7-ffab81617c20"
   },
   "outputs": [
    {
     "name": "stdout",
     "output_type": "stream",
     "text": [
      "Downloading data from https://storage.googleapis.com/tensorflow/tf-keras-datasets/mnist.npz\n",
      "11490434/11490434 [==============================] - 0s 0us/step\n",
      "(60000, 28, 28) (60000,)\n"
     ]
    }
   ],
   "source": [
    "(x_train, y_train), (x_test, y_test) = mnist.load_data()\n",
    "print(x_train.shape, y_train.shape)"
   ]
  },
  {
   "cell_type": "code",
   "execution_count": null,
   "metadata": {
    "id": "GuFS4u5W6v-J"
   },
   "outputs": [],
   "source": [
    "x_train= x_train.reshape(x_train.shape[0],28,28,1)\n",
    "x_test=  x_test.reshape(x_test.shape[0],28,28,1)\n",
    "input_shape=(28,28,1)\n",
    "y_train=keras.utils.to_categorical(y_train)#,num_classes=)\n",
    "y_test=keras.utils.to_categorical(y_test)#, num_classes)\n",
    "x_train= x_train.astype('float32')\n",
    "x_test= x_test.astype('float32')\n",
    "x_train /= 255\n",
    "x_test /=255"
   ]
  },
  {
   "cell_type": "code",
   "execution_count": null,
   "metadata": {
    "id": "8lhinkTD6wF2"
   },
   "outputs": [],
   "source": [
    "batch_size=64\n",
    "\n",
    "num_classes=10\n",
    "\n",
    "epochs=10\n",
    "\n",
    "def build_model(optimizer):\n",
    "\n",
    "  model=Sequential()\n",
    "\n",
    "  model.add(Conv2D(32,kernel_size=(3,3),activation='relu',input_shape=input_shape))\n",
    "\n",
    "  model.add(MaxPooling2D(pool_size=(2,2)))\n",
    "\n",
    "  model.add(Dropout(0.25))\n",
    "\n",
    "  model.add(Flatten())\n",
    "\n",
    "  model.add(Dense(256, activation='relu'))\n",
    "\n",
    "  model.add(Dropout(0.5))\n",
    "\n",
    "  model.add(Dense(num_classes, activation='softmax'))\n",
    "\n",
    "  model.compile(loss=keras.losses.categorical_crossentropy, optimizer= optimizer, metrics=['accuracy'])\n",
    "\n",
    "  return model"
   ]
  },
  {
   "cell_type": "code",
   "execution_count": null,
   "metadata": {
    "colab": {
     "base_uri": "https://localhost:8080/"
    },
    "id": "9yC62D-A6wIQ",
    "outputId": "7aaf17b3-6b93-45e6-a63e-049fa8c10ee7"
   },
   "outputs": [
    {
     "name": "stdout",
     "output_type": "stream",
     "text": [
      "Epoch 1/10\n",
      "938/938 [==============================] - 35s 37ms/step - loss: 2.2635 - accuracy: 0.1704 - val_loss: 2.1805 - val_accuracy: 0.4415\n",
      "Epoch 2/10\n",
      "938/938 [==============================] - 33s 35ms/step - loss: 2.1361 - accuracy: 0.3381 - val_loss: 2.0366 - val_accuracy: 0.6134\n",
      "Epoch 3/10\n",
      "938/938 [==============================] - 32s 34ms/step - loss: 1.9978 - accuracy: 0.4693 - val_loss: 1.8783 - val_accuracy: 0.6803\n",
      "Epoch 4/10\n",
      "938/938 [==============================] - 31s 33ms/step - loss: 1.8471 - accuracy: 0.5537 - val_loss: 1.7085 - val_accuracy: 0.7299\n",
      "Epoch 5/10\n",
      "938/938 [==============================] - 32s 34ms/step - loss: 1.6910 - accuracy: 0.6086 - val_loss: 1.5349 - val_accuracy: 0.7640\n",
      "Epoch 6/10\n",
      "938/938 [==============================] - 31s 34ms/step - loss: 1.5343 - accuracy: 0.6510 - val_loss: 1.3685 - val_accuracy: 0.7843\n",
      "Epoch 7/10\n",
      "938/938 [==============================] - 29s 31ms/step - loss: 1.3907 - accuracy: 0.6797 - val_loss: 1.2185 - val_accuracy: 0.7975\n",
      "Epoch 8/10\n",
      "938/938 [==============================] - 30s 32ms/step - loss: 1.2632 - accuracy: 0.7011 - val_loss: 1.0878 - val_accuracy: 0.8125\n",
      "Epoch 9/10\n",
      "938/938 [==============================] - 40s 43ms/step - loss: 1.1501 - accuracy: 0.7218 - val_loss: 0.9775 - val_accuracy: 0.8242\n",
      "Epoch 10/10\n",
      "938/938 [==============================] - 35s 37ms/step - loss: 1.0585 - accuracy: 0.7370 - val_loss: 0.8863 - val_accuracy: 0.8329\n",
      "Epoch 1/10\n",
      "938/938 [==============================] - 32s 34ms/step - loss: 1.6563 - accuracy: 0.5497 - val_loss: 0.8218 - val_accuracy: 0.8449\n",
      "Epoch 2/10\n",
      "938/938 [==============================] - 30s 32ms/step - loss: 0.7632 - accuracy: 0.7868 - val_loss: 0.4828 - val_accuracy: 0.8813\n",
      "Epoch 3/10\n",
      "938/938 [==============================] - 30s 32ms/step - loss: 0.5769 - accuracy: 0.8303 - val_loss: 0.3958 - val_accuracy: 0.8954\n",
      "Epoch 4/10\n",
      "938/938 [==============================] - 30s 32ms/step - loss: 0.5026 - accuracy: 0.8517 - val_loss: 0.3513 - val_accuracy: 0.9044\n",
      "Epoch 5/10\n",
      "938/938 [==============================] - 30s 32ms/step - loss: 0.4580 - accuracy: 0.8641 - val_loss: 0.3241 - val_accuracy: 0.9109\n",
      "Epoch 6/10\n",
      "938/938 [==============================] - 29s 31ms/step - loss: 0.4283 - accuracy: 0.8722 - val_loss: 0.3048 - val_accuracy: 0.9158\n",
      "Epoch 7/10\n",
      "938/938 [==============================] - 28s 30ms/step - loss: 0.4057 - accuracy: 0.8800 - val_loss: 0.2893 - val_accuracy: 0.9175\n",
      "Epoch 8/10\n",
      "938/938 [==============================] - 28s 30ms/step - loss: 0.3882 - accuracy: 0.8839 - val_loss: 0.2758 - val_accuracy: 0.9213\n",
      "Epoch 9/10\n",
      "938/938 [==============================] - 28s 29ms/step - loss: 0.3736 - accuracy: 0.8877 - val_loss: 0.2652 - val_accuracy: 0.9244\n",
      "Epoch 10/10\n",
      "938/938 [==============================] - 32s 34ms/step - loss: 0.3600 - accuracy: 0.8925 - val_loss: 0.2552 - val_accuracy: 0.9257\n",
      "Epoch 1/10\n",
      "938/938 [==============================] - 29s 31ms/step - loss: 0.2236 - accuracy: 0.9326 - val_loss: 0.0690 - val_accuracy: 0.9792\n",
      "Epoch 2/10\n",
      "938/938 [==============================] - 28s 30ms/step - loss: 0.0903 - accuracy: 0.9728 - val_loss: 0.0470 - val_accuracy: 0.9844\n",
      "Epoch 3/10\n",
      "938/938 [==============================] - 35s 38ms/step - loss: 0.0689 - accuracy: 0.9790 - val_loss: 0.0430 - val_accuracy: 0.9857\n",
      "Epoch 4/10\n",
      "938/938 [==============================] - 36s 38ms/step - loss: 0.0563 - accuracy: 0.9826 - val_loss: 0.0354 - val_accuracy: 0.9878\n",
      "Epoch 5/10\n",
      "938/938 [==============================] - 35s 37ms/step - loss: 0.0465 - accuracy: 0.9852 - val_loss: 0.0377 - val_accuracy: 0.9877\n",
      "Epoch 6/10\n",
      "938/938 [==============================] - 36s 39ms/step - loss: 0.0417 - accuracy: 0.9864 - val_loss: 0.0353 - val_accuracy: 0.9885\n",
      "Epoch 7/10\n",
      "938/938 [==============================] - 36s 38ms/step - loss: 0.0364 - accuracy: 0.9883 - val_loss: 0.0342 - val_accuracy: 0.9886\n",
      "Epoch 8/10\n",
      "938/938 [==============================] - 37s 39ms/step - loss: 0.0325 - accuracy: 0.9894 - val_loss: 0.0341 - val_accuracy: 0.9899\n",
      "Epoch 9/10\n",
      "938/938 [==============================] - 37s 39ms/step - loss: 0.0268 - accuracy: 0.9909 - val_loss: 0.0331 - val_accuracy: 0.9897\n",
      "Epoch 10/10\n",
      "938/938 [==============================] - 36s 38ms/step - loss: 0.0270 - accuracy: 0.9906 - val_loss: 0.0341 - val_accuracy: 0.9898\n",
      "Epoch 1/10\n",
      "938/938 [==============================] - 34s 35ms/step - loss: 0.2436 - accuracy: 0.9251 - val_loss: 0.0737 - val_accuracy: 0.9755\n",
      "Epoch 2/10\n",
      "938/938 [==============================] - 34s 36ms/step - loss: 0.0915 - accuracy: 0.9724 - val_loss: 0.0530 - val_accuracy: 0.9831\n",
      "Epoch 3/10\n",
      "938/938 [==============================] - 33s 35ms/step - loss: 0.0705 - accuracy: 0.9786 - val_loss: 0.0423 - val_accuracy: 0.9859\n",
      "Epoch 4/10\n",
      "938/938 [==============================] - 33s 35ms/step - loss: 0.0608 - accuracy: 0.9816 - val_loss: 0.0421 - val_accuracy: 0.9858\n",
      "Epoch 5/10\n",
      "938/938 [==============================] - 31s 33ms/step - loss: 0.0530 - accuracy: 0.9842 - val_loss: 0.0458 - val_accuracy: 0.9846\n",
      "Epoch 6/10\n",
      "938/938 [==============================] - 33s 35ms/step - loss: 0.0497 - accuracy: 0.9850 - val_loss: 0.0357 - val_accuracy: 0.9879\n",
      "Epoch 7/10\n",
      "938/938 [==============================] - 31s 33ms/step - loss: 0.0441 - accuracy: 0.9864 - val_loss: 0.0365 - val_accuracy: 0.9869\n",
      "Epoch 8/10\n",
      "938/938 [==============================] - 36s 38ms/step - loss: 0.0420 - accuracy: 0.9871 - val_loss: 0.0396 - val_accuracy: 0.9881\n",
      "Epoch 9/10\n",
      "938/938 [==============================] - 34s 36ms/step - loss: 0.0411 - accuracy: 0.9872 - val_loss: 0.0370 - val_accuracy: 0.9885\n",
      "Epoch 10/10\n",
      "938/938 [==============================] - 32s 34ms/step - loss: 0.0381 - accuracy: 0.9882 - val_loss: 0.0350 - val_accuracy: 0.9880\n",
      "Epoch 1/10\n",
      "938/938 [==============================] - 30s 31ms/step - loss: 0.8377 - accuracy: 0.7462 - val_loss: 0.3117 - val_accuracy: 0.9113\n",
      "Epoch 2/10\n",
      "938/938 [==============================] - 29s 31ms/step - loss: 0.3939 - accuracy: 0.8808 - val_loss: 0.2336 - val_accuracy: 0.9319\n",
      "Epoch 3/10\n",
      "938/938 [==============================] - 30s 32ms/step - loss: 0.3181 - accuracy: 0.9040 - val_loss: 0.1892 - val_accuracy: 0.9450\n",
      "Epoch 4/10\n",
      "938/938 [==============================] - 31s 33ms/step - loss: 0.2781 - accuracy: 0.9156 - val_loss: 0.1642 - val_accuracy: 0.9529\n",
      "Epoch 5/10\n",
      "938/938 [==============================] - 29s 31ms/step - loss: 0.2473 - accuracy: 0.9255 - val_loss: 0.1477 - val_accuracy: 0.9575\n",
      "Epoch 6/10\n",
      "938/938 [==============================] - 31s 33ms/step - loss: 0.2276 - accuracy: 0.9305 - val_loss: 0.1355 - val_accuracy: 0.9616\n",
      "Epoch 7/10\n",
      "938/938 [==============================] - 30s 32ms/step - loss: 0.2146 - accuracy: 0.9346 - val_loss: 0.1243 - val_accuracy: 0.9630\n",
      "Epoch 8/10\n",
      "938/938 [==============================] - 30s 32ms/step - loss: 0.1992 - accuracy: 0.9414 - val_loss: 0.1173 - val_accuracy: 0.9656\n",
      "Epoch 9/10\n",
      "938/938 [==============================] - 31s 33ms/step - loss: 0.1911 - accuracy: 0.9431 - val_loss: 0.1129 - val_accuracy: 0.9666\n",
      "Epoch 10/10\n",
      "938/938 [==============================] - 31s 34ms/step - loss: 0.1819 - accuracy: 0.9448 - val_loss: 0.1051 - val_accuracy: 0.9686\n"
     ]
    }
   ],
   "source": [
    "optimizers = ['Adadelta', 'Adagrad', 'Adam', 'RMSprop', 'SGD']\n",
    "\n",
    "for i in optimizers:\n",
    "\n",
    "  model = build_model(i)\n",
    "\n",
    "  hist=model.fit(x_train, y_train, batch_size=batch_size, epochs=epochs, verbose=1, validation_data=(x_test,y_test))"
   ]
  },
  {
   "cell_type": "code",
   "execution_count": null,
   "metadata": {
    "colab": {
     "base_uri": "https://localhost:8080/"
    },
    "id": "HjdFPBSV5qBc",
    "outputId": "855c80a8-ab24-4d76-e234-ee85ea10a4aa"
   },
   "outputs": [
    {
     "name": "stdout",
     "output_type": "stream",
     "text": [
      "Epoch 1/10\n",
      "938/938 [==============================] - 37s 39ms/step - loss: 2.2464 - accuracy: 0.1930 - val_loss: 2.1613 - val_accuracy: 0.4543\n",
      "Epoch 2/10\n",
      "938/938 [==============================] - 36s 38ms/step - loss: 2.1182 - accuracy: 0.3641 - val_loss: 2.0151 - val_accuracy: 0.6368\n",
      "Epoch 3/10\n",
      "938/938 [==============================] - 36s 38ms/step - loss: 1.9771 - accuracy: 0.4958 - val_loss: 1.8542 - val_accuracy: 0.6909\n",
      "Epoch 4/10\n",
      "938/938 [==============================] - 38s 40ms/step - loss: 1.8234 - accuracy: 0.5715 - val_loss: 1.6844 - val_accuracy: 0.7315\n",
      "Epoch 5/10\n",
      "938/938 [==============================] - 35s 37ms/step - loss: 1.6674 - accuracy: 0.6271 - val_loss: 1.5152 - val_accuracy: 0.7612\n",
      "Epoch 6/10\n",
      "938/938 [==============================] - 37s 40ms/step - loss: 1.5181 - accuracy: 0.6575 - val_loss: 1.3559 - val_accuracy: 0.7818\n",
      "Epoch 7/10\n",
      "938/938 [==============================] - 35s 38ms/step - loss: 1.3772 - accuracy: 0.6870 - val_loss: 1.2115 - val_accuracy: 0.7941\n",
      "Epoch 8/10\n",
      "938/938 [==============================] - 36s 38ms/step - loss: 1.2542 - accuracy: 0.7051 - val_loss: 1.0844 - val_accuracy: 0.8081\n",
      "Epoch 9/10\n",
      "938/938 [==============================] - 37s 39ms/step - loss: 1.1471 - accuracy: 0.7240 - val_loss: 0.9761 - val_accuracy: 0.8199\n",
      "Epoch 10/10\n",
      "938/938 [==============================] - 36s 39ms/step - loss: 1.0553 - accuracy: 0.7390 - val_loss: 0.8851 - val_accuracy: 0.8278\n",
      "Epoch 1/10\n",
      "938/938 [==============================] - 34s 35ms/step - loss: 0.2447 - accuracy: 0.9246 - val_loss: 0.0699 - val_accuracy: 0.9783\n",
      "Epoch 2/10\n",
      "938/938 [==============================] - 30s 32ms/step - loss: 0.0970 - accuracy: 0.9708 - val_loss: 0.0572 - val_accuracy: 0.9811\n",
      "Epoch 3/10\n",
      "938/938 [==============================] - 28s 30ms/step - loss: 0.0743 - accuracy: 0.9771 - val_loss: 0.0473 - val_accuracy: 0.9843\n",
      "Epoch 4/10\n",
      "938/938 [==============================] - 27s 29ms/step - loss: 0.0602 - accuracy: 0.9813 - val_loss: 0.0437 - val_accuracy: 0.9847\n",
      "Epoch 5/10\n",
      "938/938 [==============================] - 32s 34ms/step - loss: 0.0510 - accuracy: 0.9842 - val_loss: 0.0378 - val_accuracy: 0.9876\n",
      "Epoch 6/10\n",
      "938/938 [==============================] - 33s 35ms/step - loss: 0.0451 - accuracy: 0.9852 - val_loss: 0.0343 - val_accuracy: 0.9883\n",
      "Epoch 7/10\n",
      "938/938 [==============================] - 34s 36ms/step - loss: 0.0384 - accuracy: 0.9874 - val_loss: 0.0369 - val_accuracy: 0.9875\n",
      "Epoch 8/10\n",
      "938/938 [==============================] - 34s 36ms/step - loss: 0.0350 - accuracy: 0.9888 - val_loss: 0.0382 - val_accuracy: 0.9881\n",
      "Epoch 9/10\n",
      "938/938 [==============================] - 33s 35ms/step - loss: 0.0325 - accuracy: 0.9892 - val_loss: 0.0369 - val_accuracy: 0.9882\n",
      "Epoch 10/10\n",
      "938/938 [==============================] - 34s 37ms/step - loss: 0.0280 - accuracy: 0.9909 - val_loss: 0.0334 - val_accuracy: 0.9905\n"
     ]
    }
   ],
   "source": [
    "optimizers = ['Adadelta', 'Adam']\n",
    "\n",
    "for i in optimizers:\n",
    "\n",
    "  model = build_model(i)\n",
    "\n",
    "  hist=model.fit(x_train, y_train, batch_size=batch_size, epochs=epochs, verbose=1, validation_data=(x_test,y_test))"
   ]
  },
  {
   "cell_type": "code",
   "execution_count": null,
   "metadata": {
    "id": "kBhiTkGn7-bJ"
   },
   "outputs": [],
   "source": []
  }
 ],
 "metadata": {
  "colab": {
   "provenance": []
  },
  "kernelspec": {
   "display_name": "Python 3",
   "language": "python",
   "name": "python3"
  },
  "language_info": {
   "codemirror_mode": {
    "name": "ipython",
    "version": 3
   },
   "file_extension": ".py",
   "mimetype": "text/x-python",
   "name": "python",
   "nbconvert_exporter": "python",
   "pygments_lexer": "ipython3",
   "version": "3.6.9"
  }
 },
 "nbformat": 4,
 "nbformat_minor": 1
}
