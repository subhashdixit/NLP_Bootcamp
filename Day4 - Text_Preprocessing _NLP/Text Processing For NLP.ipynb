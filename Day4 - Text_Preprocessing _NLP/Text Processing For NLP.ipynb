{
 "cells": [
  {
   "cell_type": "markdown",
   "id": "32664188",
   "metadata": {},
   "source": [
    "# Text Processing For NLP"
   ]
  },
  {
   "cell_type": "markdown",
   "id": "5292aacb",
   "metadata": {},
   "source": [
    "1. ➤ Text cleaning\n",
    "2. ➤ Tokenization\n",
    "3. ➤ Stemming\n",
    "4. ➤ Lemmatization\n",
    "5. ➤ Stemming vs Lemmatization\n",
    "6. ➤ Part-of-speech tagging\n",
    "7. ➤ Named entity recognition"
   ]
  },
  {
   "cell_type": "markdown",
   "id": "fc778ab1",
   "metadata": {},
   "source": [
    "##### Text Cleaning\n",
    "\n",
    "This involves removing unwanted characters, symbols, and words from the text data, such as punctuation, special characters, numbers, and stop words\n",
    "\n",
    "Computational Linguistics involves developing algorithms and techniques that allows computer to understand,generate and process human language.\n",
    "\n",
    "Uses below techniques to clean textual data\n",
    "- Make all characters into lowercase\n",
    "- Remove punctuation\n",
    "- Remove numbers\n",
    "- Remove Emojis\n",
    "- Strip HTML Tags\n",
    "- Remove URLs, Mentions (@), hastags (#) and special characters\n",
    "- Remove stop words"
   ]
  },
  {
   "cell_type": "markdown",
   "id": "e69802ac",
   "metadata": {},
   "source": [
    "## Create Files in Python"
   ]
  },
  {
   "cell_type": "code",
   "execution_count": 1,
   "id": "58ae472e",
   "metadata": {},
   "outputs": [],
   "source": [
    "f= open(\"analytics.txt\",\"w+\")"
   ]
  },
  {
   "cell_type": "markdown",
   "id": "614dee47",
   "metadata": {},
   "source": [
    "##### Explanation\n",
    "- We declared the variable “f” to open a file named analytics.txt. Open takes 2 arguments, the file that we want to open and a string that represents the kinds of permission or operation we want to do on the file.\n",
    "\n",
    "- Here, we used “w” letter in our argument, which indicates Python write to file and it will create file in Python if it does not exist in library\n",
    "\n",
    "- Plus sign indicates both read and write for Python create file operation.\n"
   ]
  },
  {
   "cell_type": "code",
   "execution_count": 2,
   "id": "3e7261bf",
   "metadata": {},
   "outputs": [],
   "source": [
    "for i in range(10):\n",
    "     f.write(\"This is line %d\\r\\n\" % (i+1))"
   ]
  },
  {
   "cell_type": "markdown",
   "id": "d1a170f2",
   "metadata": {},
   "source": [
    "##### Explanation\n",
    "\n",
    "- We have a for loop that runs over a range of 10 numbers.\n",
    "- Using the write function to enter data into the file.\n",
    "- The output we want to iterate in the file is “this is line number”, which we declare with Python write file function and then percent d (displays integer)\n",
    "- Basically we are putting in the line number that we are writing, then putting it in a carriage return and a new line character"
   ]
  },
  {
   "cell_type": "code",
   "execution_count": 3,
   "id": "7fa27e84",
   "metadata": {},
   "outputs": [],
   "source": [
    "f.close()"
   ]
  },
  {
   "cell_type": "markdown",
   "id": "185f31ac",
   "metadata": {},
   "source": [
    "###### Explanation\n",
    "- This will close the instance of the file guru99.txt stored"
   ]
  },
  {
   "cell_type": "code",
   "execution_count": 4,
   "id": "942a0f3f",
   "metadata": {},
   "outputs": [],
   "source": [
    "# Final Output\n",
    "\n",
    "f= open(\"analytics1.txt\",\"w+\")\n",
    "for i in range(10):\n",
    "     f.write(\"This is line %d\\r\\n\" % (i+1))\n",
    "f.close()"
   ]
  },
  {
   "cell_type": "markdown",
   "id": "0f71cfa0",
   "metadata": {},
   "source": [
    "# Append Text in Existing File using Python"
   ]
  },
  {
   "cell_type": "code",
   "execution_count": 5,
   "id": "5edeebc4",
   "metadata": {},
   "outputs": [],
   "source": [
    "f=open(\"analytics1.txt\", \"a+\")"
   ]
  },
  {
   "cell_type": "markdown",
   "id": "28e89629",
   "metadata": {},
   "source": [
    "###### Explanation\n",
    "-  if you could see a plus sign in the code, it indicates that it will create a new file if it does not exist. But in our case we already have the file, so we are not required to create a new file for Python append to file operation."
   ]
  },
  {
   "cell_type": "code",
   "execution_count": 6,
   "id": "b43ffb39",
   "metadata": {},
   "outputs": [],
   "source": [
    "for i in range(2):\n",
    "     f.write(\"Appended line %d\\r\\n\" % (i+1))"
   ]
  },
  {
   "cell_type": "markdown",
   "id": "0f557081",
   "metadata": {},
   "source": [
    "###### EXplanation\n",
    "- This will write data into the file in append mode."
   ]
  },
  {
   "cell_type": "code",
   "execution_count": 7,
   "id": "2d4b339a",
   "metadata": {},
   "outputs": [],
   "source": [
    "f.close()"
   ]
  },
  {
   "cell_type": "code",
   "execution_count": 8,
   "id": "e96cbafd",
   "metadata": {},
   "outputs": [],
   "source": [
    "# Final Output\n",
    "f=open(\"analytics1.txt\", \"a+\")\n",
    "for i in range(2):\n",
    "     f.write(\"Appended line %d\\r\\n\" % (i+1))\n",
    "f.close()"
   ]
  },
  {
   "cell_type": "markdown",
   "id": "e386f022",
   "metadata": {},
   "source": [
    "# Read txt Files using Python"
   ]
  },
  {
   "cell_type": "code",
   "execution_count": 9,
   "id": "c4b92c92",
   "metadata": {},
   "outputs": [
    {
     "name": "stdout",
     "output_type": "stream",
     "text": [
      "This is line 1\n",
      "\n",
      "This is line 2\n",
      "\n",
      "This is line 3\n",
      "\n",
      "This is line 4\n",
      "\n",
      "This is line 5\n",
      "\n",
      "This is line 6\n",
      "\n",
      "This is line 7\n",
      "\n",
      "This is line 8\n",
      "\n",
      "This is line 9\n",
      "\n",
      "This is line 10\n",
      "\n",
      "Appended line 1\n",
      "\n",
      "Appended line 2\n",
      "\n",
      "Appended line 1\n",
      "\n",
      "Appended line 2\n",
      "\n",
      "\n"
     ]
    }
   ],
   "source": [
    "#Open the file in Read mode\n",
    "f=open(\"analytics1.txt\", \"r\")\n",
    "\n",
    "# We use the mode function in the code to check that the file is in open mode. If yes, we proceed ahead\n",
    "if f.mode == 'r':\n",
    "    \n",
    "#Use f.read to read file data and store it in variable content for reading files in Python\n",
    "    contents =f.read()\n",
    "    print(contents)"
   ]
  },
  {
   "cell_type": "code",
   "execution_count": 10,
   "id": "6248ae35",
   "metadata": {},
   "outputs": [
    {
     "name": "stdout",
     "output_type": "stream",
     "text": [
      "This is line 1\n",
      "\n",
      "This is line 2\n",
      "\n",
      "This is line 3\n",
      "\n",
      "This is line 4\n",
      "\n",
      "This is line 5\n",
      "\n",
      "This is line 6\n",
      "\n",
      "This is line 7\n",
      "\n",
      "This is line 8\n",
      "\n",
      "This is line 9\n",
      "\n",
      "This is line 10\n",
      "\n",
      "Appended line 1\n",
      "\n",
      "Appended line 2\n",
      "\n",
      "Appended line 1\n",
      "\n",
      "Appended line 2\n",
      "\n",
      "\n",
      "Here is the output!\n"
     ]
    }
   ],
   "source": [
    "print(contents)\n",
    "print(\"Here is the output!\")"
   ]
  },
  {
   "attachments": {
    "2.png": {
     "image/png": "[encoded data removed]"
    }
   },
   "cell_type": "markdown",
   "id": "3969b463",
   "metadata": {},
   "source": [
    "## Files mode in Python\n",
    "![2.png](attachment:2.png)"
   ]
  },
  {
   "cell_type": "markdown",
   "id": "dfe2042f",
   "metadata": {},
   "source": [
    "## Tokenization\n",
    "\n",
    "- This involves breaking up the text into individual words or tokens.\n",
    "- Tokenization is often the first step in many NLP tasks, as it allows the text to be analyzed on a word-by-word basis."
   ]
  },
  {
   "cell_type": "code",
   "execution_count": 11,
   "id": "7da67e54",
   "metadata": {},
   "outputs": [],
   "source": [
    "# NLTK Installation\n",
    "# !pip install --user -U nltk"
   ]
  },
  {
   "cell_type": "code",
   "execution_count": 12,
   "id": "367d93b1",
   "metadata": {},
   "outputs": [
    {
     "name": "stdout",
     "output_type": "stream",
     "text": [
      "['Tokenization', 'is', 'breaking', 'the', 'raw', 'text', 'into', 'small', 'chunks', '.', 'Tokenization', 'breaks', 'the', 'raw', 'text', 'into', 'words', ',', 'sentences', 'called', 'tokens', '.', 'These', 'tokens', 'help', 'in', 'understanding', 'the', 'context', 'or', 'developing', 'the', 'model', 'for', 'the', 'NLP', '.', 'The', 'tokenization', 'helps', 'in', 'interpreting', 'the', 'meaning', 'of', 'the', 'text', 'by', 'analyzing', 'the', 'sequence', 'of', 'the', 'words', '.', '#', 'Hope', '#', 'shivan.K']\n"
     ]
    }
   ],
   "source": [
    "from nltk.tokenize import word_tokenize\n",
    "\n",
    "text = \"\"\"Tokenization is breaking the raw text into small chunks. \n",
    "            Tokenization breaks the raw text into words, sentences called tokens. \n",
    "            These tokens help in understanding the context or developing the model \n",
    "            for the NLP. The tokenization helps in interpreting the meaning of \n",
    "            the text by analyzing the sequence of the words. #Hope #shivan.K\"\"\"\n",
    "\n",
    "tokens = word_tokenize(text)\n",
    "print(tokens)"
   ]
  },
  {
   "cell_type": "code",
   "execution_count": 13,
   "id": "42cd7d2a",
   "metadata": {},
   "outputs": [
    {
     "data": {
      "text/plain": [
       "['Tokenization is breaking the raw text into small chunks.',\n",
       " 'Tokenization breaks the raw text into words, sentences called tokens.',\n",
       " 'These tokens help in understanding the context or developing the model \\n            for the NLP.',\n",
       " 'The tokenization helps in interpreting the meaning of \\n            the text by analyzing the sequence of the words.']"
      ]
     },
     "execution_count": 13,
     "metadata": {},
     "output_type": "execute_result"
    }
   ],
   "source": [
    "from nltk.tokenize import sent_tokenize\n",
    "\n",
    "text = \"\"\"Tokenization is breaking the raw text into small chunks. \n",
    "            Tokenization breaks the raw text into words, sentences called tokens. \n",
    "            These tokens help in understanding the context or developing the model \n",
    "            for the NLP. The tokenization helps in interpreting the meaning of \n",
    "            the text by analyzing the sequence of the words.\"\"\"\n",
    "\n",
    "sent_tokenize(text)"
   ]
  },
  {
   "cell_type": "code",
   "execution_count": 14,
   "id": "e1cf2a8d",
   "metadata": {},
   "outputs": [
    {
     "data": {
      "text/plain": [
       "['Tokenization is breaking the raw text into small chunks.',\n",
       " 'Tokenization breaks the raw text into words, sentences called tokens.',\n",
       " 'These tokens help in understanding the context or developing the model for the NLP.',\n",
       " 'The tokenization helps in interpreting the meaning of the text by analyzing the sequence of the words.']"
      ]
     },
     "execution_count": 14,
     "metadata": {},
     "output_type": "execute_result"
    }
   ],
   "source": [
    "from nltk.tokenize import sent_tokenize\n",
    "\n",
    "text = \"\"\"Tokenization is breaking the raw text into small chunks. Tokenization breaks the raw text into words, sentences called tokens. These tokens help in understanding the context or developing the model for the NLP. The tokenization helps in interpreting the meaning of the text by analyzing the sequence of the words.\"\"\"\n",
    "\n",
    "sent_tokenize(text)"
   ]
  },
  {
   "attachments": {
    "1.jpg": {
     "image/jpeg": "[encoded data removed]"
    }
   },
   "cell_type": "markdown",
   "id": "3454fd0f",
   "metadata": {},
   "source": [
    "# Stemming\n",
    "\n",
    "- This involves reducing words to their root form, such as converting \"running\" and \"ran\" to \"run\".\n",
    "- Stemming can help to reduce the number of unique words in a text corpus, making it easier to analyze.\n",
    "\n",
    "![1.jpg](attachment:1.jpg)"
   ]
  },
  {
   "cell_type": "raw",
   "id": "b0e30548",
   "metadata": {},
   "source": [
    "**************************************Image Source Google *********************************"
   ]
  },
  {
   "cell_type": "markdown",
   "id": "2c6b1c23",
   "metadata": {},
   "source": [
    "#### Why we Need Stemming?\n",
    "In NLP use cases such as sentiment analysis, spam classification, restaurant reviews etc., getting base word is important to know whether the word is positive or negative. Stemming is used to get that base word."
   ]
  },
  {
   "cell_type": "markdown",
   "id": "96081f23",
   "metadata": {},
   "source": [
    "## Types of Stemming\n",
    "\n",
    "There are several types of stemming algorithms used in NLP, including\n",
    "\n",
    "#### Porter stemming\n",
    "\n",
    "- This is one of the most widely used stemming algorithms in NLP\n",
    "- It was developed by Martin Porter in 1979 \n",
    "- Based on a set of heuristic rules that remove common suffixes from words, such as \"-ing\" and \"-ly\"\n",
    "- Porter stemming is simple and fast.\n",
    "\n",
    "#### Snowball stemming\n",
    "\n",
    "- This is an extension of the Porter stemming algorithm\n",
    "- It includes additional rules for stemming words in different languages, including French, German, and Spanish\n",
    "- Snowball stemming is more accurate than Porter stemming\n",
    "- It is slower and more complex\n",
    "\n",
    "#### Lancaster stemming\n",
    "\n",
    "- This is a highly aggressive stemming algorithm\n",
    "- Lancaster stemming is very fast and produces very aggressive stems, but it may produce stems that are not actual words"
   ]
  },
  {
   "cell_type": "markdown",
   "id": "b2ce16ef",
   "metadata": {},
   "source": [
    "# Implementation -> Porter stemming"
   ]
  },
  {
   "cell_type": "code",
   "execution_count": 15,
   "id": "845dd6b8",
   "metadata": {},
   "outputs": [
    {
     "name": "stderr",
     "output_type": "stream",
     "text": [
      "[nltk_data] Downloading package stopwords to\n",
      "[nltk_data]     C:\\Users\\subhash\\AppData\\Roaming\\nltk_data...\n",
      "[nltk_data]   Package stopwords is already up-to-date!\n",
      "[nltk_data] Downloading package punkt to\n",
      "[nltk_data]     C:\\Users\\subhash\\AppData\\Roaming\\nltk_data...\n",
      "[nltk_data]   Package punkt is already up-to-date!\n"
     ]
    }
   ],
   "source": [
    "import nltk\n",
    "nltk.download('stopwords')\n",
    "nltk.download('punkt')\n",
    "from nltk.corpus import stopwords\n",
    "from nltk.stem import PorterStemmer"
   ]
  },
  {
   "cell_type": "code",
   "execution_count": 16,
   "id": "484f4504",
   "metadata": {},
   "outputs": [],
   "source": [
    "paragraph = \"\"\"Text embeddings are a key enabler and building block for applications such as semantic \n",
    "            search, recommendation, text clustering, sentiment analysis, and named entity \n",
    "            extractions. Today, we’re announcing a set of new features in BigQuery to \n",
    "            generate text embeddings and apply them to downstream application tasks with \n",
    "            familiar SQL commands. Starting today, you can use four types of text embedding \n",
    "            generation directly from BigQuery SQL.\"\"\""
   ]
  },
  {
   "cell_type": "code",
   "execution_count": 17,
   "id": "e3fcac6a",
   "metadata": {},
   "outputs": [],
   "source": [
    "paragraph = \"\"\"Text embeddings are a key enabler and building block for applications such as semantic search, recommendation, text clustering, sentiment analysis, and named entity extractions. Today, we’re announcing a set of new features in BigQuery to generate text embeddings and apply them to downstream application tasks with familiar SQL commands. Starting today, you can use four types of text embedding generation directly from BigQuery SQL:\"\"\""
   ]
  },
  {
   "cell_type": "code",
   "execution_count": 18,
   "id": "c415dc6e",
   "metadata": {},
   "outputs": [],
   "source": [
    "from nltk.corpus import stopwords\n",
    "from nltk.tokenize import word_tokenize"
   ]
  },
  {
   "cell_type": "code",
   "execution_count": 19,
   "id": "153e5286",
   "metadata": {},
   "outputs": [
    {
     "name": "stdout",
     "output_type": "stream",
     "text": [
      "['Text embeddings are a key enabler and building block for applications such as semantic search, recommendation, text clustering, sentiment analysis, and named entity extractions.', 'Today, we’re announcing a set of new features in BigQuery to generate text embeddings and apply them to downstream application tasks with familiar SQL commands.', 'Starting today, you can use four types of text embedding generation directly from BigQuery SQL:']\n",
      "\n",
      "\n",
      " Result after Stemming \n",
      "\n",
      "\n",
      "['text embed key enabl build block applic semant search , recommend , text cluster , sentiment analysi , name entiti extract .', 'today , ’ announc set new featur bigqueri gener text embed appli downstream applic task familiar sql command .', 'start today , use four type text embed gener directli bigqueri sql :']\n"
     ]
    }
   ],
   "source": [
    "sentences = nltk.sent_tokenize(paragraph)\n",
    "\n",
    "print(sentences)\n",
    "\n",
    "\n",
    "print(\"\\n\\n Result after Stemming \\n\\n\")\n",
    "stemmer = nltk.PorterStemmer()\n",
    "\n",
    "# Stemming\n",
    "for i in range(len(sentences)):\n",
    "    words = nltk.word_tokenize(sentences[i])\n",
    "    words = [stemmer.stem(word) for word in words if word not in set(stopwords.words('english'))]\n",
    "    sentences[i] = ' '.join(words)\n",
    "\n",
    "print(sentences)"
   ]
  },
  {
   "cell_type": "code",
   "execution_count": 20,
   "id": "f54d5c0a",
   "metadata": {},
   "outputs": [
    {
     "name": "stdout",
     "output_type": "stream",
     "text": [
      "['i', 'me', 'my', 'myself', 'we', 'our', 'ours', 'ourselves', 'you', \"you're\", \"you've\", \"you'll\", \"you'd\", 'your', 'yours', 'yourself', 'yourselves', 'he', 'him', 'his', 'himself', 'she', \"she's\", 'her', 'hers', 'herself', 'it', \"it's\", 'its', 'itself', 'they', 'them', 'their', 'theirs', 'themselves', 'what', 'which', 'who', 'whom', 'this', 'that', \"that'll\", 'these', 'those', 'am', 'is', 'are', 'was', 'were', 'be', 'been', 'being', 'have', 'has', 'had', 'having', 'do', 'does', 'did', 'doing', 'a', 'an', 'the', 'and', 'but', 'if', 'or', 'because', 'as', 'until', 'while', 'of', 'at', 'by', 'for', 'with', 'about', 'against', 'between', 'into', 'through', 'during', 'before', 'after', 'above', 'below', 'to', 'from', 'up', 'down', 'in', 'out', 'on', 'off', 'over', 'under', 'again', 'further', 'then', 'once', 'here', 'there', 'when', 'where', 'why', 'how', 'all', 'any', 'both', 'each', 'few', 'more', 'most', 'other', 'some', 'such', 'no', 'nor', 'not', 'only', 'own', 'same', 'so', 'than', 'too', 'very', 's', 't', 'can', 'will', 'just', 'don', \"don't\", 'should', \"should've\", 'now', 'd', 'll', 'm', 'o', 're', 've', 'y', 'ain', 'aren', \"aren't\", 'couldn', \"couldn't\", 'didn', \"didn't\", 'doesn', \"doesn't\", 'hadn', \"hadn't\", 'hasn', \"hasn't\", 'haven', \"haven't\", 'isn', \"isn't\", 'ma', 'mightn', \"mightn't\", 'mustn', \"mustn't\", 'needn', \"needn't\", 'shan', \"shan't\", 'shouldn', \"shouldn't\", 'wasn', \"wasn't\", 'weren', \"weren't\", 'won', \"won't\", 'wouldn', \"wouldn't\"]\n"
     ]
    }
   ],
   "source": [
    "#Stopwords\n",
    "print(stopwords.words('english'))"
   ]
  },
  {
   "cell_type": "code",
   "execution_count": 21,
   "id": "73fc0617",
   "metadata": {},
   "outputs": [
    {
     "name": "stdout",
     "output_type": "stream",
     "text": [
      "['au', 'aux', 'avec', 'ce', 'ces', 'dans', 'de', 'des', 'du', 'elle', 'en', 'et', 'eux', 'il', 'ils', 'je', 'la', 'le', 'les', 'leur', 'lui', 'ma', 'mais', 'me', 'même', 'mes', 'moi', 'mon', 'ne', 'nos', 'notre', 'nous', 'on', 'ou', 'par', 'pas', 'pour', 'qu', 'que', 'qui', 'sa', 'se', 'ses', 'son', 'sur', 'ta', 'te', 'tes', 'toi', 'ton', 'tu', 'un', 'une', 'vos', 'votre', 'vous', 'c', 'd', 'j', 'l', 'à', 'm', 'n', 's', 't', 'y', 'été', 'étée', 'étées', 'étés', 'étant', 'étante', 'étants', 'étantes', 'suis', 'es', 'est', 'sommes', 'êtes', 'sont', 'serai', 'seras', 'sera', 'serons', 'serez', 'seront', 'serais', 'serait', 'serions', 'seriez', 'seraient', 'étais', 'était', 'étions', 'étiez', 'étaient', 'fus', 'fut', 'fûmes', 'fûtes', 'furent', 'sois', 'soit', 'soyons', 'soyez', 'soient', 'fusse', 'fusses', 'fût', 'fussions', 'fussiez', 'fussent', 'ayant', 'ayante', 'ayantes', 'ayants', 'eu', 'eue', 'eues', 'eus', 'ai', 'as', 'avons', 'avez', 'ont', 'aurai', 'auras', 'aura', 'aurons', 'aurez', 'auront', 'aurais', 'aurait', 'aurions', 'auriez', 'auraient', 'avais', 'avait', 'avions', 'aviez', 'avaient', 'eut', 'eûmes', 'eûtes', 'eurent', 'aie', 'aies', 'ait', 'ayons', 'ayez', 'aient', 'eusse', 'eusses', 'eût', 'eussions', 'eussiez', 'eussent']\n"
     ]
    }
   ],
   "source": [
    "print(stopwords.words('french'))"
   ]
  },
  {
   "cell_type": "markdown",
   "id": "7b96d1c5",
   "metadata": {},
   "source": [
    "# Implementation -> Snowball stemming"
   ]
  },
  {
   "cell_type": "code",
   "execution_count": 24,
   "id": "72b2e985",
   "metadata": {},
   "outputs": [
    {
     "name": "stdout",
     "output_type": "stream",
     "text": [
      "Original Word: eating, Stemmed Word: eat\n",
      "Original Word: eats, Stemmed Word: eat\n",
      "Original Word: eaten, Stemmed Word: eaten\n",
      "Original Word: puts, Stemmed Word: put\n",
      "Original Word: putting, Stemmed Word: put\n"
     ]
    }
   ],
   "source": [
    "from nltk.stem import SnowballStemmer\n",
    "\n",
    "# Create a Snowball Stemmer object for English\n",
    "stemmer = SnowballStemmer(language='english')\n",
    "\n",
    "# Define a list of words to be stemmed\n",
    "# words = ['running', 'ran', 'runs']\n",
    "words = ['eating','eats','eaten','puts','putting']\n",
    "\n",
    "# Iterate over each word and stem it using Snowball Stemmer\n",
    "stemmed_words = []\n",
    "for word in words:\n",
    "   stemmed_word = stemmer.stem(word)\n",
    "   stemmed_words.append(stemmed_word)\n",
    "\n",
    "# Print the original words and their stemmed forms\n",
    "for i in range(len(words)):\n",
    "   print(f'Original Word: {words[i]}, Stemmed Word: {stemmed_words[i]}')"
   ]
  },
  {
   "cell_type": "markdown",
   "id": "bf854ac7",
   "metadata": {},
   "source": [
    "# Implementation -> Lancaster stemming"
   ]
  },
  {
   "cell_type": "code",
   "execution_count": 25,
   "id": "46681e51",
   "metadata": {},
   "outputs": [
    {
     "name": "stdout",
     "output_type": "stream",
     "text": [
      "eating ---> eat\n",
      "eats ---> eat\n",
      "eaten ---> eat\n",
      "puts ---> put\n",
      "putting ---> put\n"
     ]
    }
   ],
   "source": [
    "from nltk.stem import LancasterStemmer\n",
    "\n",
    "# Create a lancaster Stemmer object \n",
    "lancaster = LancasterStemmer()\n",
    "\n",
    "# Define a list of words to be stemmed\n",
    "words = ['eating','eats','eaten','puts','putting']\n",
    "\n",
    "# Print the original words and their stemmed forms\n",
    "for word in words:\n",
    "    print(word,\"--->\",lancaster.stem(word))"
   ]
  },
  {
   "cell_type": "markdown",
   "id": "ee137174",
   "metadata": {},
   "source": [
    "# Lemmatization \n",
    "\n",
    "The purpose of lemmatization is same as that of stemming but overcomes the drawbacks of stemming. In stemming, for some words, it may not give may not give meaningful representation such as “Histori”. Here, lemmatization comes into picture as it gives meaningful word.\n",
    "\n",
    "Lemmatization takes more time as compared to stemming because it finds meaningful word/ representation. Stemming just needs to get a base word and therefore takes less time.\n",
    "\n",
    "Stemming has its application in Sentiment Analysis while Lemmatization has its application in Chatbots, human-answering."
   ]
  },
  {
   "cell_type": "code",
   "execution_count": 26,
   "id": "2a58bdae",
   "metadata": {},
   "outputs": [
    {
     "name": "stderr",
     "output_type": "stream",
     "text": [
      "[nltk_data] Downloading package stopwords to\n",
      "[nltk_data]     C:\\Users\\subhash\\AppData\\Roaming\\nltk_data...\n",
      "[nltk_data]   Package stopwords is already up-to-date!\n",
      "[nltk_data] Downloading package punkt to\n",
      "[nltk_data]     C:\\Users\\subhash\\AppData\\Roaming\\nltk_data...\n",
      "[nltk_data]   Package punkt is already up-to-date!\n",
      "[nltk_data] Downloading package wordnet to\n",
      "[nltk_data]     C:\\Users\\subhash\\AppData\\Roaming\\nltk_data...\n",
      "[nltk_data]   Package wordnet is already up-to-date!\n"
     ]
    }
   ],
   "source": [
    "import nltk\n",
    "nltk.download('stopwords')\n",
    "nltk.download('punkt')\n",
    "nltk.download('wordnet')\n",
    "from nltk.stem import WordNetLemmatizer\n",
    "from nltk.corpus import stopwords"
   ]
  },
  {
   "cell_type": "code",
   "execution_count": 27,
   "id": "3ccc5a2e",
   "metadata": {},
   "outputs": [],
   "source": [
    "paragraph = \"\"\"Text embeddings are a key enabler and building block for applications such as semantic search, recommendation, text clustering, sentiment analysis, and named entity extractions. Today, we’re announcing a set of new features in BigQuery to generate text embeddings and apply them to downstream application tasks with familiar SQL commands. Starting today, you can use four types of text embedding generation directly from BigQuery SQL:\"\"\""
   ]
  },
  {
   "cell_type": "code",
   "execution_count": 28,
   "id": "32294069",
   "metadata": {},
   "outputs": [
    {
     "name": "stdout",
     "output_type": "stream",
     "text": [
      "['Text embeddings are a key enabler and building block for applications such as semantic search, recommendation, text clustering, sentiment analysis, and named entity extractions.', 'Today, we’re announcing a set of new features in BigQuery to generate text embeddings and apply them to downstream application tasks with familiar SQL commands.', 'Starting today, you can use four types of text embedding generation directly from BigQuery SQL:']\n"
     ]
    }
   ],
   "source": [
    "# Tokenization before stemming\n",
    "\n",
    "sentences = nltk.sent_tokenize(paragraph)\n",
    "print(sentences)"
   ]
  },
  {
   "cell_type": "markdown",
   "id": "175c7159",
   "metadata": {},
   "source": [
    "##### Lemmatization\n",
    "The difference between stemming and lemmatization comes in this step where WordNetLemmatizer() is used instead of PorterStemmer(). Rest of steps are the same."
   ]
  },
  {
   "cell_type": "code",
   "execution_count": 29,
   "id": "6b4ded4a",
   "metadata": {},
   "outputs": [
    {
     "name": "stdout",
     "output_type": "stream",
     "text": [
      "['Text embeddings are a key enabler and building block for applications such as semantic search, recommendation, text clustering, sentiment analysis, and named entity extractions.', 'Today, we’re announcing a set of new features in BigQuery to generate text embeddings and apply them to downstream application tasks with familiar SQL commands.', 'Starting today, you can use four types of text embedding generation directly from BigQuery SQL:']\n",
      "\n",
      "\n",
      " Result after Lemmatization \n",
      "\n",
      "\n",
      "['Text embeddings key enabler building block application semantic search , recommendation , text clustering , sentiment analysis , named entity extraction .', 'Today , ’ announcing set new feature BigQuery generate text embeddings apply downstream application task familiar SQL command .', 'Starting today , use four type text embedding generation directly BigQuery SQL :']\n"
     ]
    }
   ],
   "source": [
    "lemmatizer = WordNetLemmatizer()\n",
    "\n",
    "print(sentences)\n",
    "\n",
    "\n",
    "print(\"\\n\\n Result after Lemmatization \\n\\n\")\n",
    "# Lemmatization\n",
    "for i in range(len(sentences)):\n",
    "    words = nltk.word_tokenize(sentences[i])\n",
    "    words = [lemmatizer.lemmatize(word) for word in words if word not in set(stopwords.words('english'))]\n",
    "    sentences[i] = ' '.join(words)\n",
    "    \n",
    "print(sentences)"
   ]
  },
  {
   "cell_type": "markdown",
   "id": "e6f2737c",
   "metadata": {},
   "source": [
    "#### Stemming vs Lemmatization\n",
    "\n",
    "##### Stemming \n",
    "- Stemming is a process that stems or removes last few characters from a word, often leading to incorrect meanings and spelling.\n",
    "\n",
    "- Example: stemming the word ‘Caring‘ would return ‘Car‘.\n",
    "\n",
    "- Stemming is used in case of large dataset where performance is an issue.\t\n",
    "\n",
    "##### Lemmatization\n",
    "- Lemmatization considers the context and converts the word to its meaningful base form, which is called Lemma.\n",
    "\n",
    "- Example: lemmatizing the word ‘Caring‘ would return ‘Care‘.\n",
    "\n",
    "- Lemmatization is computationally expensive since it involves look-up tables.\n",
    "\n"
   ]
  },
  {
   "cell_type": "markdown",
   "id": "af1ab2b9",
   "metadata": {},
   "source": [
    "# Question - Answer\n",
    "\n",
    "1. Which is better lemmatization or stemming?\n",
    "\n",
    "The choice depends on the specific use case. Lemmatization produces a linguistically valid word while stemming is faster but may generate non-words.\n",
    "\n",
    "2. Why is stemming faster than lemmatization?\n",
    "\n",
    "Stemming chops off word endings without considering linguistic context, making it computationally faster. Lemmatization analyzes word forms to determine the base or dictionary form, which takes more processing time."
   ]
  },
  {
   "cell_type": "markdown",
   "id": "f00fe962",
   "metadata": {},
   "source": [
    "# Part-of-speech tagging (POS tagging)\n",
    "\n",
    "- The process of labeling the words in a text with their corresponding parts of speech.\n",
    "\n",
    "- POS such as noun, verb, adjective, adverb, pronoun, preposition, conjunction, or interjection.\n",
    "\n",
    "- It is a crucial step in NLP as it helps to identify the grammatical structure of a sentence, which is important for tasks such as parsing, machine translation, and text-to-speech conversion.\n",
    "\n",
    "- POS tagging algorithms typically use statistical models or rule-based approaches to assign each word a part of speech tag based on its context and its relationship to neighboring words in a sentence. \n",
    "\n",
    "Example = The cat sat on the mat POS tagger would assign the tag \"DT\" (determiner) to \"The\", \"NN\" (noun) to \"cat\" and \"mat\", \"VBD\" (verb, past tense) to \"sat\", and \"IN\" (preposition) to \"on\""
   ]
  },
  {
   "cell_type": "code",
   "execution_count": 35,
   "id": "e747acab",
   "metadata": {},
   "outputs": [
    {
     "name": "stdout",
     "output_type": "stream",
     "text": [
      "\u001b[38;5;2m✔ Download and installation successful\u001b[0m\n",
      "You can now load the package via spacy.load('en_core_web_sm')\n",
      "  => SPACE => _SP\n",
      "The => DET => DT\n",
      "cat => NOUN => NN\n",
      "sat => VERB => VBD\n",
      "on => ADP => IN\n",
      "the => DET => DT\n",
      "mat => NOUN => NN\n"
     ]
    }
   ],
   "source": [
    "import spacy\n",
    "# nlp=spacy.load('en_core_web_sm')\n",
    "spacy.cli.download(\"en_core_web_sm\")\n",
    "nlp = spacy.load(\"en_core_web_md\")\n",
    "\n",
    "text=' The cat sat on the mat'\n",
    "\n",
    "for token in nlp(text):\n",
    " print(token.text, '=>',token.pos_,'=>',token.tag_)"
   ]
  },
  {
   "cell_type": "code",
   "execution_count": 36,
   "id": "f27c54a0",
   "metadata": {},
   "outputs": [
    {
     "name": "stdout",
     "output_type": "stream",
     "text": [
      "It => PRON => PRP\n",
      "took => VERB => VBD\n",
      "me => PRON => PRP\n",
      "more => ADJ => JJR\n",
      "than => ADP => IN\n",
      "two => NUM => CD\n",
      "hours => NOUN => NNS\n",
      "to => PART => TO\n",
      "translate => VERB => VB\n",
      "a => DET => DT\n",
      "few => ADJ => JJ\n",
      "pages => NOUN => NNS\n",
      "of => ADP => IN\n",
      "English => PROPN => NNP\n",
      ". => PUNCT => .\n"
     ]
    }
   ],
   "source": [
    "import spacy\n",
    "\n",
    "text='It took me more than two hours to translate a few pages of English.'\n",
    "\n",
    "for token in nlp(text):\n",
    " print(token.text, '=>',token.pos_,'=>',token.tag_)"
   ]
  },
  {
   "cell_type": "markdown",
   "id": "9af07cf0",
   "metadata": {},
   "source": [
    "# Named Entity Recognition (NER)\n",
    "\n",
    "- The process of identifying and categorizing named entities in a text, such as people, organizations, locations, dates, and other types of entities.\n",
    "\n",
    "- NER is an important task in NLP because it helps to extract structured information from unstructured text data.\n",
    "\n",
    "- NER algorithms typically use machine learning models, such as Conditional Random Fields (CRF) or neural networks, to identify named entities based on their context and their relationship to other words in a sentence.\n",
    "\n",
    "- POS tagging algorithms typically use statistical models or rule-based approaches to assign each word a part of speech tag based on its context and its relationship to neighboring words in a sentence. \n",
    "\n",
    "Example = \"Apple is headquartered in Cupertino, California\",  NER system would recognize \"Apple\" as an organization and \"Cupertino, California\" as a location.****"
   ]
  },
  {
   "cell_type": "code",
   "execution_count": 37,
   "id": "330cd71d",
   "metadata": {},
   "outputs": [
    {
     "name": "stdout",
     "output_type": "stream",
     "text": [
      "\u001b[38;5;2m✔ Download and installation successful\u001b[0m\n",
      "You can now load the package via spacy.load('en_core_web_sm')\n"
     ]
    }
   ],
   "source": [
    "import spacy\n",
    "from spacy import displacy\n",
    "spacy.cli.download(\"en_core_web_sm\")\n",
    "NER = spacy.load(\"en_core_web_sm\")"
   ]
  },
  {
   "cell_type": "code",
   "execution_count": 38,
   "id": "ab4b7b73",
   "metadata": {},
   "outputs": [
    {
     "name": "stdout",
     "output_type": "stream",
     "text": [
      "**************************************\n",
      "The Indian Space Research Organisation *************>>> ORG\n",
      "**************************************\n",
      "India *************>>> GPE\n",
      "**************************************\n",
      "Bengaluru *************>>> GPE\n",
      "**************************************\n",
      "Department of Space *************>>> ORG\n",
      "**************************************\n",
      "India *************>>> GPE\n",
      "**************************************\n",
      "ISRO *************>>> ORG\n",
      "**************************************\n",
      "DOS *************>>> ORG\n"
     ]
    }
   ],
   "source": [
    "text=\"The Indian Space Research Organisation or is the national space agency of India, headquartered in Bengaluru. It operates under Department of Space which is directly overseen by the Prime Minister of India while Chairman of ISRO acts as executive of DOS as well.\"\n",
    "\n",
    "text1= NER(text)\n",
    "for word in text1.ents:\n",
    "    print(\"**************************************\")\n",
    "    print(word.text,\"*************>>>\",word.label_)\n"
   ]
  },
  {
   "cell_type": "code",
   "execution_count": 39,
   "id": "b6fc1c13",
   "metadata": {},
   "outputs": [
    {
     "data": {
      "text/plain": [
       "'Companies, agencies, institutions, etc.'"
      ]
     },
     "execution_count": 39,
     "metadata": {},
     "output_type": "execute_result"
    }
   ],
   "source": [
    "spacy.explain(\"ORG\")"
   ]
  },
  {
   "cell_type": "code",
   "execution_count": 40,
   "id": "ff34cc7b",
   "metadata": {},
   "outputs": [
    {
     "data": {
      "text/plain": [
       "'Countries, cities, states'"
      ]
     },
     "execution_count": 40,
     "metadata": {},
     "output_type": "execute_result"
    }
   ],
   "source": [
    "spacy.explain(\"GPE\")"
   ]
  },
  {
   "cell_type": "code",
   "execution_count": 41,
   "id": "3c8507d9",
   "metadata": {},
   "outputs": [
    {
     "data": {
      "text/html": [
       "<span class=\"tex2jax_ignore\"><div class=\"entities\" style=\"line-height: 2.5; direction: ltr\">\n",
       "<mark class=\"entity\" style=\"background: #7aecec; padding: 0.45em 0.6em; margin: 0 0.25em; line-height: 1; border-radius: 0.35em;\">\n",
       "    The Indian Space Research Organisation\n",
       "    <span style=\"font-size: 0.8em; font-weight: bold; line-height: 1; border-radius: 0.35em; vertical-align: middle; margin-left: 0.5rem\">ORG</span>\n",
       "</mark>\n",
       " or is the national space agency of \n",
       "<mark class=\"entity\" style=\"background: #feca74; padding: 0.45em 0.6em; margin: 0 0.25em; line-height: 1; border-radius: 0.35em;\">\n",
       "    India\n",
       "    <span style=\"font-size: 0.8em; font-weight: bold; line-height: 1; border-radius: 0.35em; vertical-align: middle; margin-left: 0.5rem\">GPE</span>\n",
       "</mark>\n",
       ", headquartered in \n",
       "<mark class=\"entity\" style=\"background: #feca74; padding: 0.45em 0.6em; margin: 0 0.25em; line-height: 1; border-radius: 0.35em;\">\n",
       "    Bengaluru\n",
       "    <span style=\"font-size: 0.8em; font-weight: bold; line-height: 1; border-radius: 0.35em; vertical-align: middle; margin-left: 0.5rem\">GPE</span>\n",
       "</mark>\n",
       ". It operates under \n",
       "<mark class=\"entity\" style=\"background: #7aecec; padding: 0.45em 0.6em; margin: 0 0.25em; line-height: 1; border-radius: 0.35em;\">\n",
       "    Department of Space\n",
       "    <span style=\"font-size: 0.8em; font-weight: bold; line-height: 1; border-radius: 0.35em; vertical-align: middle; margin-left: 0.5rem\">ORG</span>\n",
       "</mark>\n",
       " which is directly overseen by the Prime Minister of \n",
       "<mark class=\"entity\" style=\"background: #feca74; padding: 0.45em 0.6em; margin: 0 0.25em; line-height: 1; border-radius: 0.35em;\">\n",
       "    India\n",
       "    <span style=\"font-size: 0.8em; font-weight: bold; line-height: 1; border-radius: 0.35em; vertical-align: middle; margin-left: 0.5rem\">GPE</span>\n",
       "</mark>\n",
       " while Chairman of \n",
       "<mark class=\"entity\" style=\"background: #7aecec; padding: 0.45em 0.6em; margin: 0 0.25em; line-height: 1; border-radius: 0.35em;\">\n",
       "    ISRO\n",
       "    <span style=\"font-size: 0.8em; font-weight: bold; line-height: 1; border-radius: 0.35em; vertical-align: middle; margin-left: 0.5rem\">ORG</span>\n",
       "</mark>\n",
       " acts as executive of \n",
       "<mark class=\"entity\" style=\"background: #7aecec; padding: 0.45em 0.6em; margin: 0 0.25em; line-height: 1; border-radius: 0.35em;\">\n",
       "    DOS\n",
       "    <span style=\"font-size: 0.8em; font-weight: bold; line-height: 1; border-radius: 0.35em; vertical-align: middle; margin-left: 0.5rem\">ORG</span>\n",
       "</mark>\n",
       " as well.</div></span>"
      ],
      "text/plain": [
       "<IPython.core.display.HTML object>"
      ]
     },
     "metadata": {},
     "output_type": "display_data"
    }
   ],
   "source": [
    "displacy.render(text1,style=\"ent\",jupyter=True)"
   ]
  },
  {
   "cell_type": "markdown",
   "id": "a4253d3a",
   "metadata": {},
   "source": [
    "# Happy Learning!"
   ]
  }
 ],
 "metadata": {
  "kernelspec": {
   "display_name": "Python 3",
   "language": "python",
   "name": "python3"
  },
  "language_info": {
   "codemirror_mode": {
    "name": "ipython",
    "version": 3
   },
   "file_extension": ".py",
   "mimetype": "text/x-python",
   "name": "python",
   "nbconvert_exporter": "python",
   "pygments_lexer": "ipython3",
   "version": "3.9.18"
  }
 },
 "nbformat": 4,
 "nbformat_minor": 5
}
