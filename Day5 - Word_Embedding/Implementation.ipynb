{
 "cells": [
  {
   "cell_type": "code",
   "execution_count": 10,
   "metadata": {},
   "outputs": [],
   "source": [
    "import nltk\n",
    "\n",
    "# Cleaning the texts\n",
    "import re\n",
    "from nltk.corpus import stopwords\n",
    "from nltk.stem.porter import PorterStemmer\n",
    "from nltk.stem import WordNetLemmatizer\n"
   ]
  },
  {
   "cell_type": "code",
   "execution_count": 11,
   "metadata": {},
   "outputs": [],
   "source": [
    "\n",
    "paragraph =  \"\"\"One problem that we encounter in the bag-of-words approach is that it treats every word equally, \n",
    "                but in a document, there is a high chance of particular words being repeated more often than others.\n",
    "                In a news report about Messi winning the Copa-America tournament, the word Messi would be more frequently repeated. \n",
    "                We cannot give Messi the same weight as any other word in that document. \n",
    "                In the news report, if we take each sentence as a document, we can count the number of documents each time Messi occurs. \n",
    "                This method is called document-frequency.\"\"\"\n",
    "               \n",
    " "
   ]
  },
  {
   "cell_type": "code",
   "execution_count": 12,
   "metadata": {},
   "outputs": [],
   "source": [
    "ps = PorterStemmer()\n",
    "wordnet=WordNetLemmatizer()\n",
    "sentences = nltk.sent_tokenize(paragraph)\n",
    "corpus = []\n",
    "for i in range(len(sentences)):\n",
    "    review = re.sub('[^a-zA-Z]', ' ', sentences[i])\n",
    "    review = review.lower()\n",
    "    review = review.split()\n",
    "    review = [ps.stem(word) for word in review if not word in set(stopwords.words('english'))]\n",
    "    review = ' '.join(review)\n",
    "    corpus.append(review)"
   ]
  },
  {
   "cell_type": "code",
   "execution_count": 13,
   "metadata": {},
   "outputs": [],
   "source": [
    "    \n",
    "# Creating the Bag of Words model\n",
    "from sklearn.feature_extraction.text import CountVectorizer\n",
    "cv = CountVectorizer(max_features = 1500)\n",
    "X = cv.fit_transform(corpus).toarray()\n"
   ]
  },
  {
   "cell_type": "code",
   "execution_count": 14,
   "metadata": {},
   "outputs": [
    {
     "data": {
      "text/plain": [
       "array([[0, 1, 1, 0, 0, 1, 0, 0, 1, 1, 1, 1, 0, 0, 0, 1, 0, 0, 0, 0, 0, 1,\n",
       "        1, 1, 1, 1, 1, 0, 0, 0, 0, 0, 1, 0, 0, 3, 0],\n",
       "       [1, 0, 0, 0, 0, 0, 1, 0, 0, 0, 0, 0, 0, 1, 0, 0, 2, 0, 1, 0, 0, 0,\n",
       "        0, 0, 0, 0, 1, 1, 0, 0, 0, 1, 0, 0, 1, 1, 1],\n",
       "       [0, 0, 0, 0, 1, 0, 0, 0, 1, 0, 0, 0, 0, 0, 1, 0, 1, 0, 0, 0, 0, 0,\n",
       "        0, 0, 0, 0, 0, 0, 0, 0, 0, 0, 0, 1, 0, 1, 0],\n",
       "       [0, 0, 0, 0, 0, 0, 0, 1, 2, 0, 0, 0, 0, 0, 0, 0, 1, 0, 1, 1, 1, 0,\n",
       "        0, 0, 0, 0, 0, 1, 1, 1, 1, 0, 0, 0, 0, 0, 0],\n",
       "       [0, 0, 0, 1, 0, 0, 0, 0, 1, 0, 0, 0, 1, 0, 0, 0, 0, 1, 0, 0, 0, 0,\n",
       "        0, 0, 0, 0, 0, 0, 0, 0, 0, 0, 0, 0, 0, 0, 0]], dtype=int64)"
      ]
     },
     "execution_count": 14,
     "metadata": {},
     "output_type": "execute_result"
    }
   ],
   "source": [
    "X"
   ]
  },
  {
   "cell_type": "markdown",
   "metadata": {},
   "source": [
    "## TF-IDF"
   ]
  },
  {
   "cell_type": "code",
   "execution_count": 15,
   "metadata": {},
   "outputs": [],
   "source": [
    "import nltk\n",
    "\n",
    "# Cleaning the texts\n",
    "import re\n",
    "from nltk.corpus import stopwords\n",
    "from nltk.stem.porter import PorterStemmer\n",
    "from nltk.stem import WordNetLemmatizer\n",
    "from sklearn.feature_extraction.text import TfidfVectorizer\n"
   ]
  },
  {
   "cell_type": "code",
   "execution_count": 16,
   "metadata": {},
   "outputs": [],
   "source": [
    "\n",
    "paragraph =  \"\"\"One problem that we encounter in the bag-of-words approach is that it treats every word equally, \n",
    "                but in a document, there is a high chance of particular words being repeated more often than others.\n",
    "                In a news report about Messi winning the Copa-America tournament, the word Messi would be more frequently repeated. \n",
    "                We cannot give Messi the same weight as any other word in that document. \n",
    "                In the news report, if we take each sentence as a document, we can count the number of documents each time Messi occurs. \n",
    "                This method is called document-frequency.\"\"\"\n",
    "               \n",
    " "
   ]
  },
  {
   "cell_type": "code",
   "execution_count": 17,
   "metadata": {},
   "outputs": [],
   "source": [
    "ps = PorterStemmer()\n",
    "wordnet=WordNetLemmatizer()\n",
    "sentences = nltk.sent_tokenize(paragraph)\n",
    "corpus = []\n",
    "for i in range(len(sentences)):\n",
    "    review = re.sub('[^a-zA-Z]', ' ', sentences[i])\n",
    "    review = review.lower()\n",
    "    review = review.split()\n",
    "    review = [wordnet.lemmatize(word) for word in review if not word in set(stopwords.words('english'))]\n",
    "    review = ' '.join(review)\n",
    "    corpus.append(review)"
   ]
  },
  {
   "cell_type": "code",
   "execution_count": 18,
   "metadata": {},
   "outputs": [],
   "source": [
    "# Creating the TF-IDF model\n",
    "from sklearn.feature_extraction.text import TfidfVectorizer\n",
    "cv = TfidfVectorizer()\n",
    "X = cv.fit_transform(corpus).toarray()"
   ]
  },
  {
   "cell_type": "code",
   "execution_count": 19,
   "metadata": {},
   "outputs": [
    {
     "data": {
      "text/plain": [
       "array([[0.        , 0.23566993, 0.23566993, 0.        , 0.        ,\n",
       "        0.23566993, 0.        , 0.        , 0.13277233, 0.23566993,\n",
       "        0.23566993, 0.23566993, 0.        , 0.        , 0.        ,\n",
       "        0.23566993, 0.        , 0.        , 0.        , 0.        ,\n",
       "        0.        , 0.23566993, 0.23566993, 0.23566993, 0.23566993,\n",
       "        0.23566993, 0.19013701, 0.        , 0.        , 0.        ,\n",
       "        0.        , 0.        , 0.23566993, 0.        , 0.        ,\n",
       "        0.47349269, 0.        ],\n",
       "       [0.31318405, 0.        , 0.        , 0.        , 0.        ,\n",
       "        0.        , 0.31318405, 0.        , 0.        , 0.        ,\n",
       "        0.        , 0.        , 0.        , 0.31318405, 0.        ,\n",
       "        0.        , 0.41948602, 0.        , 0.25267492, 0.        ,\n",
       "        0.        , 0.        , 0.        , 0.        , 0.        ,\n",
       "        0.        , 0.25267492, 0.25267492, 0.        , 0.        ,\n",
       "        0.        , 0.31318405, 0.        , 0.        , 0.31318405,\n",
       "        0.20974301, 0.31318405],\n",
       "       [0.        , 0.        , 0.        , 0.        , 0.48711412,\n",
       "        0.        , 0.        , 0.        , 0.2744316 , 0.        ,\n",
       "        0.        , 0.        , 0.        , 0.        , 0.48711412,\n",
       "        0.        , 0.326226  , 0.        , 0.        , 0.        ,\n",
       "        0.        , 0.        , 0.        , 0.        , 0.        ,\n",
       "        0.        , 0.        , 0.        , 0.        , 0.        ,\n",
       "        0.        , 0.        , 0.        , 0.48711412, 0.        ,\n",
       "        0.326226  , 0.        ],\n",
       "       [0.        , 0.        , 0.        , 0.        , 0.        ,\n",
       "        0.        , 0.        , 0.33296459, 0.37517288, 0.        ,\n",
       "        0.        , 0.        , 0.        , 0.        , 0.        ,\n",
       "        0.        , 0.22299026, 0.        , 0.26863373, 0.33296459,\n",
       "        0.33296459, 0.        , 0.        , 0.        , 0.        ,\n",
       "        0.        , 0.        , 0.26863373, 0.33296459, 0.33296459,\n",
       "        0.33296459, 0.        , 0.        , 0.        , 0.        ,\n",
       "        0.        , 0.        ],\n",
       "       [0.        , 0.        , 0.        , 0.54903633, 0.        ,\n",
       "        0.        , 0.        , 0.        , 0.30931749, 0.        ,\n",
       "        0.        , 0.        , 0.54903633, 0.        , 0.        ,\n",
       "        0.        , 0.        , 0.54903633, 0.        , 0.        ,\n",
       "        0.        , 0.        , 0.        , 0.        , 0.        ,\n",
       "        0.        , 0.        , 0.        , 0.        , 0.        ,\n",
       "        0.        , 0.        , 0.        , 0.        , 0.        ,\n",
       "        0.        , 0.        ]])"
      ]
     },
     "execution_count": 19,
     "metadata": {},
     "output_type": "execute_result"
    }
   ],
   "source": [
    "X"
   ]
  },
  {
   "cell_type": "markdown",
   "metadata": {},
   "source": [
    "# Happy Learning!"
   ]
  }
 ],
 "metadata": {
  "kernelspec": {
   "display_name": "Python 3",
   "language": "python",
   "name": "python3"
  },
  "language_info": {
   "codemirror_mode": {
    "name": "ipython",
    "version": 3
   },
   "file_extension": ".py",
   "mimetype": "text/x-python",
   "name": "python",
   "nbconvert_exporter": "python",
   "pygments_lexer": "ipython3",
   "version": "3.6.9"
  }
 },
 "nbformat": 4,
 "nbformat_minor": 4
}
