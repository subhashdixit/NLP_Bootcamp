{
 "cells": [
  {
   "cell_type": "markdown",
   "metadata": {},
   "source": [
    "# Assignment"
   ]
  },
  {
   "cell_type": "markdown",
   "metadata": {},
   "source": [
    "### Email Spam-ham Classification\n",
    "\n",
    "Dataset link: https://www.kaggle.com/datasets/uciml/sms-spam-collection-dataset\n",
    "\n",
    "##### Process\n",
    "\n",
    "- 1. Data cleaning\n",
    "        - Rename columns name\n",
    "        - Handle Duplicate Data\n",
    "        - If required Apply Encoding technies over target columns\n",
    "        - Handle Messing values\n",
    "       \n",
    "       \n",
    "- 2. EDA\n",
    "        - Do Some Visualization ( Add Comment based upon your understading )\n",
    "        \n",
    "        \n",
    "- 3. Text Preprocessing\n",
    "        - Lower case\n",
    "        - Tokenization\n",
    "        - Removing special characters\n",
    "        - Removing stop words and punctuation\n",
    "        - Apply Stemming / lammetization\n",
    "        - use wordcount function to find our most occuring words in your documents\n",
    "        \n",
    "        \n",
    "- 4. Text Vectorization  \n",
    "        - Apply Bag of Words\n",
    "        \n",
    "        \n",
    "- 4. Model building\n",
    "        - Use minimum 5 Machine learning Algorithms\n",
    "        - Test your model witht ehhelp of some content\n",
    " \n",
    " \n",
    "- 5. Evaluation\n",
    "\n",
    "\n",
    "- 6. Hyperparameter tunning and Improvement\n",
    "        - Test your model witht ehhelp of some content\n",
    "\n",
    "\n",
    "- 7. Create Web Application ( optional )\n",
    "        - Flask / Streamlit\n"
   ]
  },
  {
   "cell_type": "markdown",
   "metadata": {},
   "source": [
    "### Assignment Deadline (29th Sep  2023)\n",
    "\n",
    "#### Assignment Submistion Process\n",
    "    - Upload your assignment over github and Send your github link under discussion Section"
   ]
  },
  {
   "cell_type": "markdown",
   "metadata": {},
   "source": [
    "# Happy Learning"
   ]
  }
 ],
 "metadata": {
  "kernelspec": {
   "display_name": "Python 3",
   "language": "python",
   "name": "python3"
  },
  "language_info": {
   "codemirror_mode": {
    "name": "ipython",
    "version": 3
   },
   "file_extension": ".py",
   "mimetype": "text/x-python",
   "name": "python",
   "nbconvert_exporter": "python",
   "pygments_lexer": "ipython3",
   "version": "3.6.9"
  }
 },
 "nbformat": 4,
 "nbformat_minor": 4
}
